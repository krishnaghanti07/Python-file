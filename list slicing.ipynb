{
 "cells": [
  {
   "cell_type": "code",
   "execution_count": 5,
   "id": "697b2d93",
   "metadata": {},
   "outputs": [
    {
     "name": "stdout",
     "output_type": "stream",
     "text": [
      "[1, 2, 3, 4, 5]\n",
      "[2, 4, 6]\n",
      "[2, 5, 8, 11, 14, 17]\n",
      "[2, 3, 4, 5]\n",
      "[3, 4, 5, 6]\n",
      "[4, 6, 8, 10, 12, 14, 16]\n",
      "[6, 7, 8, 9, 10, 11, 12, 13, 14, 15]\n",
      "6\n",
      "[2, 3, 4, 5, 6, 7, 8, 9, 10, 11, 12, 13, 14]\n",
      "[11, 12, 13, 14, 15, 16]\n",
      "[]\n",
      "[1, 3, 5, 7, 9, 11, 13, 15]\n",
      "[18, 16, 14, 12, 10, 8, 6]\n",
      "[3, 5, 7, 9, 11, 13, 15]\n",
      "[5, 8, 11, 14, 17]\n",
      "[]\n",
      "[17]\n"
     ]
    }
   ],
   "source": [
    "l=[1,2,3,4,5,6,7,8,9,10,11,12,13,14,15,16,17,18]\n",
    "print(l[0:5:1])\n",
    "print(l[1:7:2])\n",
    "print(l[1:17:3])\n",
    "print(l[1:5])\n",
    "print(l[2:6])\n",
    "print(l[3:17:2])\n",
    "print(l[5:15:1])\n",
    "print(l[5])\n",
    "print(l[1:-4])\n",
    "print(l[-8:-2])\n",
    "print(l[-2:-3])\n",
    "print(l[0:15:2])\n",
    "print(l[-1:-15:-2])\n",
    "print(l[-16:-3:2])\n",
    "print(l[-14:-1:3])\n",
    "print(l[-1:-2:3])\n",
    "print(l[-2:-3:-1])"
   ]
  },
  {
   "cell_type": "code",
   "execution_count": 18,
   "id": "f0a0c8d6",
   "metadata": {},
   "outputs": [
    {
     "name": "stdout",
     "output_type": "stream",
     "text": [
      "['apple', 'banana', 'cherry']\n",
      "banana\n",
      "cherry\n",
      "['apple', 'banana', 'cherry', 'orange']\n",
      "['apple', 'banana', 'guava', 'cherry', 'orange']\n",
      "['apple', 'banana', 'guava', 'cherry']\n",
      "['apple', 'banana', 'cherry']\n"
     ]
    }
   ],
   "source": [
    "thislist=[\"apple\",\"banana\",\"cherry\"]\n",
    "print(thislist)\n",
    "print(thislist[1])\n",
    "print(thislist[-1])\n",
    "thislist.append(\"orange\")\n",
    "# thislist command just add one item\n",
    "print(thislist)\n",
    "thislist.insert(2,\"guava\")\n",
    "# inset command add just two item\n",
    "print(thislist)\n",
    "thislist.remove(\"orange\")\n",
    "print(thislist)\n",
    "thislist.pop(2)\n",
    "print(thislist)"
   ]
  },
  {
   "cell_type": "code",
   "execution_count": 15,
   "id": "8e3febee",
   "metadata": {},
   "outputs": [
    {
     "name": "stdout",
     "output_type": "stream",
     "text": [
      "hello\n"
     ]
    }
   ],
   "source": []
  },
  {
   "cell_type": "code",
   "execution_count": null,
   "id": "7e79693e",
   "metadata": {},
   "outputs": [],
   "source": []
  }
 ],
 "metadata": {
  "kernelspec": {
   "display_name": "Python 3 (ipykernel)",
   "language": "python",
   "name": "python3"
  },
  "language_info": {
   "codemirror_mode": {
    "name": "ipython",
    "version": 3
   },
   "file_extension": ".py",
   "mimetype": "text/x-python",
   "name": "python",
   "nbconvert_exporter": "python",
   "pygments_lexer": "ipython3",
   "version": "3.10.6"
  }
 },
 "nbformat": 4,
 "nbformat_minor": 5
}
