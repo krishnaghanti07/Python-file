{
 "cells": [
  {
   "cell_type": "code",
   "execution_count": 3,
   "id": "724ef845",
   "metadata": {},
   "outputs": [
    {
     "name": "stdout",
     "output_type": "stream",
     "text": [
      "enter a age: 17\n",
      "enter age is:  17\n",
      "you are not eligible for voting\n"
     ]
    }
   ],
   "source": [
    "#program on if-else statement\n",
    "age=int(input(\"enter a age: \"))\n",
    "print(\"enter age is: \",age)\n",
    "if age>=18:\n",
    "    print(\"you can vote\")\n",
    "else:\n",
    "    print(\"you are not eligible for voting\")"
   ]
  },
  {
   "cell_type": "code",
   "execution_count": 4,
   "id": "698138c5",
   "metadata": {},
   "outputs": [
    {
     "name": "stdout",
     "output_type": "stream",
     "text": [
      "enter your namesrikrishna\n",
      "you're most welcome in python lecture srikrishna\n"
     ]
    }
   ],
   "source": [
    "name=input(\"enter your name\")\n",
    "print(\"you're most welcome in python lecture\",name)\n",
    "marks=int(input(\"enter the mark you got in hs: \"))\n",
    "print(\"you've got: \",marks,\"marks\")"
   ]
  },
  {
   "cell_type": "code",
   "execution_count": 8,
   "id": "b9d80754",
   "metadata": {},
   "outputs": [
    {
     "name": "stdout",
     "output_type": "stream",
     "text": [
      "enter a number: 21\n",
      "the number is:  21\n",
      "it is an odd number\n"
     ]
    }
   ],
   "source": [
    "x=int(input(\"enter a number: \"))\n",
    "print(\"the number is: \",x)\n",
    "a=x%2\n",
    "if a==0:\n",
    "    print(\"it is an even number\")\n",
    "else:\n",
    "        print(\"it is an odd number\")"
   ]
  },
  {
   "cell_type": "code",
   "execution_count": null,
   "id": "64334efe",
   "metadata": {},
   "outputs": [],
   "source": []
  }
 ],
 "metadata": {
  "kernelspec": {
   "display_name": "Python 3 (ipykernel)",
   "language": "python",
   "name": "python3"
  },
  "language_info": {
   "codemirror_mode": {
    "name": "ipython",
    "version": 3
   },
   "file_extension": ".py",
   "mimetype": "text/x-python",
   "name": "python",
   "nbconvert_exporter": "python",
   "pygments_lexer": "ipython3",
   "version": "3.10.6"
  }
 },
 "nbformat": 4,
 "nbformat_minor": 5
}
