{
 "cells": [
  {
   "cell_type": "code",
   "execution_count": 1,
   "id": "d82f59bc",
   "metadata": {},
   "outputs": [
    {
     "name": "stdout",
     "output_type": "stream",
     "text": [
      "10 20 30 40 50 "
     ]
    }
   ],
   "source": [
    "def Print_Contents_List(L):\n",
    "    for i in L:\n",
    "        print(i, end=\" \")\n",
    "L1=[10,20,30,40,50]\n",
    "Print_Contents_List(L1)"
   ]
  },
  {
   "cell_type": "code",
   "execution_count": 10,
   "id": "d8002342",
   "metadata": {},
   "outputs": [
    {
     "name": "stdout",
     "output_type": "stream",
     "text": [
      "Even contents are : ;12;14;18;24;24;22;16\n",
      "Odd contents are : ;15;23;27\n"
     ]
    }
   ],
   "source": [
    "def even_content_list(L):\n",
    "    s=\"\"\n",
    "    r=\"\"\n",
    "    for i in L:\n",
    "        if i%2==0:\n",
    "            s=s+\";\"+str(i)\n",
    "        else:\n",
    "            r=r+\";\"+str(i)\n",
    "    print(\"Even contents are :\",s)\n",
    "    print(\"Odd contents are :\",r)\n",
    "a=[12,15,14,18,24,23,27,24,22,16]\n",
    "even_content_list(a)"
   ]
  },
  {
   "cell_type": "code",
   "execution_count": 9,
   "id": "bd3db42a",
   "metadata": {},
   "outputs": [
    {
     "name": "stdout",
     "output_type": "stream",
     "text": [
      "Odd content are :  11 1 17 27 29 33 39\n"
     ]
    }
   ],
   "source": [
    "def odd_content_list(L):\n",
    "    s=''\n",
    "    for i in L:\n",
    "        if i%2==1:\n",
    "            s=s+\" \"+str(i)\n",
    "    print(\"Odd content are :\",s)\n",
    "a=[11,1,12,17,18,24,27,29,33,39]\n",
    "odd_content_list(a)"
   ]
  },
  {
   "cell_type": "code",
   "execution_count": null,
   "id": "322e960e",
   "metadata": {},
   "outputs": [],
   "source": [
    "def content_list(L):"
   ]
  }
 ],
 "metadata": {
  "kernelspec": {
   "display_name": "Python 3 (ipykernel)",
   "language": "python",
   "name": "python3"
  },
  "language_info": {
   "codemirror_mode": {
    "name": "ipython",
    "version": 3
   },
   "file_extension": ".py",
   "mimetype": "text/x-python",
   "name": "python",
   "nbconvert_exporter": "python",
   "pygments_lexer": "ipython3",
   "version": "3.10.6"
  }
 },
 "nbformat": 4,
 "nbformat_minor": 5
}
