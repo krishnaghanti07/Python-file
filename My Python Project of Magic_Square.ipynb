{
 "cells": [
  {
   "cell_type": "code",
   "execution_count": 2,
   "id": "23438624",
   "metadata": {},
   "outputs": [
    {
     "name": "stdout",
     "output_type": "stream",
     "text": [
      "Please Enter Number of Rows and Column (n*n): 5\n",
      "\n",
      "Sum of all row, column and diagonals =  65 \n",
      "\n",
      "9 3 22 16 15 \n",
      "2 21 20 14 8 \n",
      "25 19 13 7 1 \n",
      "18 12 6 5 24 \n",
      "11 10 4 23 17 \n"
     ]
    }
   ],
   "source": [
    "def forEvenNumber(n):\n",
    "    s = [[(n * y) + x + 1 for x in range(n)] for y in range(n)]\n",
    "    for i in range(0, n // 4):\n",
    "        for j in range(0, n // 4):\n",
    "            s[i][j] = (n * n + 1) - s[i][j];\n",
    "    for i in range(0, n // 4):\n",
    "        for j in range(3 * (n // 4), n):\n",
    "            s[i][j] = (n * n + 1) - s[i][j];\n",
    "    for i in range(3 * (n // 4), n):\n",
    "        for j in range(0, n // 4):\n",
    "            s[i][j] = (n * n + 1) - s[i][j];\n",
    "    for i in range(3 * (n // 4), n):\n",
    "        for j in range(3 * (n // 4), n):\n",
    "            s[i][j] = (n * n + 1) - s[i][j];     \n",
    "    for i in range(n // 4, 3 * (n // 4)):\n",
    "        for j in range(n // 4, 3 * (n // 4)):\n",
    "            s[i][j] = (n * n + 1) - s[i][j];\n",
    "    print(\"\\nSum of all row, column and diagonals = \",n * (n * n + 1) // 2, \"\\n\")\n",
    "    for i in range(n):\n",
    "        for j in range(n):\n",
    "            print((s[i][j]), end=\" \")\n",
    "        print()\n",
    "def forOddNumber(n):\n",
    "    magic_square = [[0 for x in range(n)]for y in range(n)]\n",
    "    r = n // 2\n",
    "    c = n - 1\n",
    "    num = 1\n",
    "    while num <= (n * n):\n",
    "        if r == -1 and c == n:\n",
    "            c = n - 2\n",
    "            r = 0\n",
    "        else:\n",
    "            if c == n:\n",
    "                c = 0\n",
    "            if r < 0:\n",
    "                r = n - 1\n",
    "        if magic_square[int(r)][int(c)]:\n",
    "            c = c - 2\n",
    "            r = r + 1\n",
    "            continue\n",
    "        else:\n",
    "            magic_square[int(r)][int(c)] = num\n",
    "            num = num + 1\n",
    "        c = c + 1\n",
    "        r = r - 1\n",
    "    print(\"\\nSum of all row, column and diagonals = \", n * (n * n + 1) // 2, \"\\n\")\n",
    "    for i in range(0, n):\n",
    "        for j in range(0, n):\n",
    "            print(magic_square[i][j], end=' ')\n",
    "        print()\n",
    "n = int(input(\"Please Enter Number of Rows and Column (n*n): \"))\n",
    "if n%2==0:\n",
    "    forEvenNumber(n)\n",
    "else:\n",
    "    forOddNumber(n)"
   ]
  },
  {
   "cell_type": "code",
   "execution_count": null,
   "id": "7b28b0e2",
   "metadata": {},
   "outputs": [],
   "source": []
  }
 ],
 "metadata": {
  "kernelspec": {
   "display_name": "Python 3 (ipykernel)",
   "language": "python",
   "name": "python3"
  },
  "language_info": {
   "codemirror_mode": {
    "name": "ipython",
    "version": 3
   },
   "file_extension": ".py",
   "mimetype": "text/x-python",
   "name": "python",
   "nbconvert_exporter": "python",
   "pygments_lexer": "ipython3",
   "version": "3.10.6"
  }
 },
 "nbformat": 4,
 "nbformat_minor": 5
}
