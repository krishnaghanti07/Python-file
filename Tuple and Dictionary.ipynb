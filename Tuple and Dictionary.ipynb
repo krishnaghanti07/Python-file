{
 "cells": [
  {
   "cell_type": "code",
   "execution_count": 5,
   "id": "5b6e751b",
   "metadata": {},
   "outputs": [
    {
     "name": "stdout",
     "output_type": "stream",
     "text": [
      "()\n",
      "[]\n",
      "(1, 2, 3, 4, 5, 6, 7)\n",
      "('a', 'b', 'c', 'd', 'e', 'f', 'g')\n"
     ]
    }
   ],
   "source": [
    "# tuple\n",
    "t1=()\n",
    "print(t1)\n",
    "l=[]\n",
    "print(l)\n",
    "t2=(1,2,3,4,5,6,7)\n",
    "print(t2)\n",
    "t3=('a','b','c','d','e','f','g')\n",
    "print(t3)"
   ]
  },
  {
   "cell_type": "code",
   "execution_count": 7,
   "id": "6b8f3f9c",
   "metadata": {},
   "outputs": [
    {
     "name": "stdout",
     "output_type": "stream",
     "text": [
      "('A', 'B', 1, 2)\n",
      "<class 'tuple'>\n",
      "(1, 2, 3, 4, 5, 1, 2, 3, 4, 5)\n"
     ]
    }
   ],
   "source": [
    "# tuple addition\n",
    "a=('A','B')\n",
    "b=(1,2)\n",
    "c=a+b\n",
    "print(c)\n",
    "print(type(c))\n",
    "t=(1,2,3,4,5)\n",
    "# tuple multiplication\n",
    "d=t*2\n",
    "print(d)"
   ]
  },
  {
   "cell_type": "code",
   "execution_count": 8,
   "id": "94efeae7",
   "metadata": {},
   "outputs": [
    {
     "data": {
      "text/plain": [
       "(1, 4, 7, 14, 21, 44, 54)"
      ]
     },
     "execution_count": 8,
     "metadata": {},
     "output_type": "execute_result"
    }
   ],
   "source": [
    "# sorting of tuple\n",
    "t=(14,54,1,7,44,4,21)\n",
    "t=list(t)\n",
    "t.sort()\n",
    "tuple(t)"
   ]
  },
  {
   "cell_type": "code",
   "execution_count": 10,
   "id": "4f4c48da",
   "metadata": {},
   "outputs": [
    {
     "data": {
      "text/plain": [
       "<zip at 0x198d8ad4f80>"
      ]
     },
     "execution_count": 10,
     "metadata": {},
     "output_type": "execute_result"
    }
   ],
   "source": [
    "# zip function\n",
    "t1=('x','y','z')\n",
    "t2=(23,24,25)\n",
    "a=list(t1)\n",
    "b=list(t2)\n",
    "zip(a,b)"
   ]
  },
  {
   "cell_type": "code",
   "execution_count": 13,
   "id": "03e987c6",
   "metadata": {
    "scrolled": true
   },
   "outputs": [
    {
     "name": "stdout",
     "output_type": "stream",
     "text": [
      "<class 'dict'>\n",
      "{'Virat Kohli': 125, 'Sachin': 100}\n",
      "<class 'dict'>\n",
      "{'Virat Kohli': 125, 'Sachin': 100, 'Dhoni': 28}\n",
      "{'Virat Kohli': 125, 'Sachin': 100}\n"
     ]
    }
   ],
   "source": [
    "# Dictionary\n",
    "D={}\n",
    "print(type(D))\n",
    "d={\"Virat Kohli\":125 , \"Sachin\":100}\n",
    "# dictionary={\"key\":value,\"key\":value}\n",
    "print(d)\n",
    "print(type(d))\n",
    "# adding into dictionary\n",
    "d[\"Dhoni\"]=28\n",
    "print(d)\n",
    "# deleting from dictionary\n",
    "del d[\"Dhoni\"]\n",
    "print(d)"
   ]
  },
  {
   "cell_type": "code",
   "execution_count": 22,
   "id": "d932c508",
   "metadata": {},
   "outputs": [
    {
     "name": "stdout",
     "output_type": "stream",
     "text": [
      "{'Debashis': 19}\n",
      "{'Krishna': 20}\n",
      "{'Dipraj': 21}\n",
      "{'Himansu': 22}\n",
      "{'Garv': 24}\n",
      "{'Tanay': 25}\n"
     ]
    }
   ],
   "source": [
    "s=[{\"Debashis\":19},{\"Krishna\":20},{\"Dipraj\":21},{\"Himansu\":22},{\"Garv\":24},{\"Tanay\":25}]\n",
    "for i in range (0,len(s)):\n",
    "    print(s[i])\n",
    "#     print()\n"
   ]
  },
  {
   "cell_type": "code",
   "execution_count": 25,
   "id": "181b6546",
   "metadata": {},
   "outputs": [
    {
     "ename": "NameError",
     "evalue": "name 'value' is not defined",
     "output_type": "error",
     "traceback": [
      "\u001b[1;31m---------------------------------------------------------------------------\u001b[0m",
      "\u001b[1;31mNameError\u001b[0m                                 Traceback (most recent call last)",
      "Input \u001b[1;32mIn [25]\u001b[0m, in \u001b[0;36m<cell line: 2>\u001b[1;34m()\u001b[0m\n\u001b[0;32m      1\u001b[0m D\u001b[38;5;241m=\u001b[39m{\u001b[38;5;124m\"\u001b[39m\u001b[38;5;124mVirat Kohli\u001b[39m\u001b[38;5;124m\"\u001b[39m:\u001b[38;5;241m52\u001b[39m , \u001b[38;5;124m\"\u001b[39m\u001b[38;5;124mSachin\u001b[39m\u001b[38;5;124m\"\u001b[39m:\u001b[38;5;241m100\u001b[39m , \u001b[38;5;124m\"\u001b[39m\u001b[38;5;124mDhoni\u001b[39m\u001b[38;5;124m\"\u001b[39m:\u001b[38;5;241m36\u001b[39m}\n\u001b[0;32m      2\u001b[0m \u001b[38;5;28;01mfor\u001b[39;00m Key \u001b[38;5;129;01min\u001b[39;00m D:\n\u001b[1;32m----> 3\u001b[0m     \u001b[38;5;28mprint\u001b[39m(\u001b[38;5;124m\"\u001b[39m\u001b[38;5;124mCenturies Scored by :\u001b[39m\u001b[38;5;124m\"\u001b[39m,Key,\u001b[38;5;124m\"\u001b[39m\u001b[38;5;124m=\u001b[39m\u001b[38;5;124m\"\u001b[39m,D(\u001b[43mvalue\u001b[49m))\n",
      "\u001b[1;31mNameError\u001b[0m: name 'value' is not defined"
     ]
    }
   ],
   "source": [
    "D={\"Virat Kohli\":52 , \"Sachin\":100 , \"Dhoni\":36}\n",
    "for key in D:\n",
    "    print(\"Centuries Scored by :\",Key,\"=\",D(key))"
   ]
  },
  {
   "cell_type": "code",
   "execution_count": null,
   "id": "0d799429",
   "metadata": {},
   "outputs": [],
   "source": [
    "Players={\"Virat Kohli\":}"
   ]
  },
  {
   "cell_type": "code",
   "execution_count": 29,
   "id": "bd83d3c9",
   "metadata": {},
   "outputs": [
    {
     "name": "stdout",
     "output_type": "stream",
     "text": [
      "dict_keys(['brand', 'model', 'year'])\n",
      "dict_keys(['brand', 'model', 'year', 'color'])\n",
      "dict_keys(['brand', 'model', 'year', 'color'])\n",
      "dict_values(['Ford', 'Mustang', 1964, 'white'])\n",
      "dict_items([('brand', 'Ford'), ('model', 'Mustang'), ('year', 1964), ('color', 'white')])\n"
     ]
    }
   ],
   "source": [
    "car={\"brand\":\"Ford\" , \"model\":\"Mustang\" , \"year\":1964}\n",
    "x=car.keys()\n",
    "print(x)\n",
    "car[\"color\"]=\"white\"\n",
    "print(x)\n",
    "print(car.keys())\n",
    "print(car.values())\n",
    "print(car.items())"
   ]
  },
  {
   "cell_type": "code",
   "execution_count": 33,
   "id": "ef3f1b4a",
   "metadata": {},
   "outputs": [
    {
     "name": "stdout",
     "output_type": "stream",
     "text": [
      "{'child1': {'name': 'Emil', 'year': 2004}, 'child2': {'name': 'Tobias', 'year': 2007}, 'child3': {'name': 'Linus', 'year': 2011}}\n",
      "dict_keys(['child1', 'child2', 'child3'])\n",
      "dict_values([{'name': 'Emil', 'year': 2004}, {'name': 'Tobias', 'year': 2007}, {'name': 'Linus', 'year': 2011}])\n",
      "dict_items([('child1', {'name': 'Emil', 'year': 2004}), ('child2', {'name': 'Tobias', 'year': 2007}), ('child3', {'name': 'Linus', 'year': 2011})])\n"
     ]
    }
   ],
   "source": [
    "myfamily={\"child1\":{\"name\":\"Emil\",\"year\":2004},\"child2\":{\"name\":\"Tobias\",\"year\":2007},\"child3\":{\"name\":\"Linus\",\"year\":2011}}\n",
    "print(myfamily)\n",
    "print(myfamily.keys())\n",
    "print(myfamily.values())\n",
    "print(myfamily.items())"
   ]
  },
  {
   "cell_type": "code",
   "execution_count": null,
   "id": "7885eb72",
   "metadata": {},
   "outputs": [],
   "source": [
    "# Creating Dictionary\n",
    "# With integer Keys\n",
    "Dict={1:'Computer',2:'Engg',3:'Python'}\n",
    "print()"
   ]
  }
 ],
 "metadata": {
  "kernelspec": {
   "display_name": "Python 3 (ipykernel)",
   "language": "python",
   "name": "python3"
  },
  "language_info": {
   "codemirror_mode": {
    "name": "ipython",
    "version": 3
   },
   "file_extension": ".py",
   "mimetype": "text/x-python",
   "name": "python",
   "nbconvert_exporter": "python",
   "pygments_lexer": "ipython3",
   "version": "3.10.6"
  }
 },
 "nbformat": 4,
 "nbformat_minor": 5
}
