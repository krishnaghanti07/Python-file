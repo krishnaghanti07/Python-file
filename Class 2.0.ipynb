{
 "cells": [
  {
   "cell_type": "code",
   "execution_count": 1,
   "id": "d2c00777",
   "metadata": {},
   "outputs": [
    {
     "name": "stdout",
     "output_type": "stream",
     "text": [
      "54\n",
      "32\n",
      "sum = 86\n",
      "sub = 22\n",
      "Multi = 1728\n"
     ]
    }
   ],
   "source": [
    "class calc():\n",
    "    def __init__(self,a,b):\n",
    "        self.a=a\n",
    "        self.b=b\n",
    "    def sum(self):\n",
    "        n=self.a+self.b\n",
    "        print(\"sum =\",n)\n",
    "    def sub(self):\n",
    "        m=self.a-self.b\n",
    "        print(\"sub =\",m)\n",
    "    def multi(self):\n",
    "        o=self.a*self.b\n",
    "        print(\"Multi =\",o)\n",
    "m=int(input())\n",
    "n=int(input())\n",
    "p=calc(m,n)\n",
    "p.sum()\n",
    "p.sub()\n",
    "p.multi()"
   ]
  },
  {
   "cell_type": "code",
   "execution_count": 3,
   "id": "d72c57b8",
   "metadata": {},
   "outputs": [
    {
     "name": "stdout",
     "output_type": "stream",
     "text": [
      "Enter a Number ; 78\n",
      "Area of the Circle: 19103.760000000002\n"
     ]
    }
   ],
   "source": [
    "class area():\n",
    "    def __init__(self,pi):\n",
    "        self.pi=pi\n",
    "    def area_circle(self):\n",
    "        r=int(input(\"Enter a Number ; \"))\n",
    "        print(\"Area of the Circle:\",self.pi*r**2)\n",
    "p=area(3.14)\n",
    "p.area_circle()"
   ]
  },
  {
   "cell_type": "code",
   "execution_count": 8,
   "id": "b72aad6b",
   "metadata": {},
   "outputs": [
    {
     "name": "stdout",
     "output_type": "stream",
     "text": [
      "{'__module__': '__main__', 'fl': <function Account.fl at 0x00000169123B4A60>, '__dict__': <attribute '__dict__' of 'Account' objects>, '__weakref__': <attribute '__weakref__' of 'Account' objects>, '__doc__': None}\n"
     ]
    }
   ],
   "source": [
    "class Account:\n",
    "    def fl(self,a,b):\n",
    "        self.accno=a\n",
    "        self.balance=b\n",
    "accl=Account()\n",
    "accl.fl(200,6000)\n",
    "print(Account.__dict__)"
   ]
  },
  {
   "cell_type": "code",
   "execution_count": null,
   "id": "d5fa25ef",
   "metadata": {},
   "outputs": [],
   "source": [
    "class grandfather"
   ]
  }
 ],
 "metadata": {
  "kernelspec": {
   "display_name": "Python 3 (ipykernel)",
   "language": "python",
   "name": "python3"
  },
  "language_info": {
   "codemirror_mode": {
    "name": "ipython",
    "version": 3
   },
   "file_extension": ".py",
   "mimetype": "text/x-python",
   "name": "python",
   "nbconvert_exporter": "python",
   "pygments_lexer": "ipython3",
   "version": "3.10.6"
  }
 },
 "nbformat": 4,
 "nbformat_minor": 5
}
