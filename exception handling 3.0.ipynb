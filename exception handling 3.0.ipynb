{
 "cells": [
  {
   "cell_type": "code",
   "execution_count": 1,
   "id": "ec67bcf4",
   "metadata": {},
   "outputs": [
    {
     "name": "stdout",
     "output_type": "stream",
     "text": [
      "Enter a first number = 4\n",
      "Enter a second number = 0\n",
      "Hello dear students you are not allowed to divide by 0\n"
     ]
    }
   ],
   "source": [
    "try:\n",
    "    a=int(input(\"Enter a first number = \"))\n",
    "    b=int(input(\"Enter a second number = \"))\n",
    "    print(\"The result is =\",a/b)\n",
    "except ZeroDivisionError:\n",
    "    print(\"Hello dear students you are not allowed to divide by 0\")"
   ]
  },
  {
   "cell_type": "code",
   "execution_count": 4,
   "id": "7e1b3573",
   "metadata": {},
   "outputs": [
    {
     "name": "stdout",
     "output_type": "stream",
     "text": [
      "enter a frist number5\n",
      "enter a Second numberk\n",
      "Value error Unsupported operation\n",
      "Out of try except blocks\n"
     ]
    }
   ],
   "source": [
    "try:\n",
    "    a=int(input(\"enter a frist number\"))\n",
    "    b=int(input(\"enter a Second number\"))\n",
    "    print (a/b)\n",
    "except TypeError:\n",
    "    print('Unsupported operation')\n",
    "except ZeroDivisionError:\n",
    "    print ('Hello Students you are not allowed a divide by 0')\n",
    "except ValueError:\n",
    "    print('Value error Unsupported operation')\n",
    "print ('Out of try except blocks')\n"
   ]
  },
  {
   "cell_type": "code",
   "execution_count": 8,
   "id": "f8ebcccb",
   "metadata": {},
   "outputs": [
    {
     "name": "stdout",
     "output_type": "stream",
     "text": [
      "-5.0\n",
      "a/b result in 0\n"
     ]
    }
   ],
   "source": [
    "# Program to depict else clause with try-except\n",
    "# Python 3\n",
    "# Function which returns a/b\n",
    "def AbyB(a , b):\n",
    "    try:\n",
    "        c = ((a+b) / (a-b))\n",
    "    except ZeroDivisionError:\n",
    "        print (\"a/b result in 0\")\n",
    "    else:\n",
    "        print (c)\n",
    "\n",
    "# Driver program to test above function\n",
    "AbyB(2.0, 3.0)\n",
    "AbyB(3.0, 3.0)\n"
   ]
  },
  {
   "cell_type": "code",
   "execution_count": 7,
   "id": "a9639429",
   "metadata": {},
   "outputs": [
    {
     "name": "stdout",
     "output_type": "stream",
     "text": [
      "The index and element from the array is 0 Python\n",
      "The index and element from the array is 1 Exceptions\n",
      "The index and element from the array is 2 try and except\n",
      "Index out of range\n"
     ]
    }
   ],
   "source": [
    "    # Python code to catch an exception and handle it using try and except code blocks  \n",
    "       \n",
    "    a = [\"Python\", \"Exceptions\", \"try and except\"]  \n",
    "    try:  \n",
    "        #looping through the elements of the array a, choosing a range that goes beyond the length of the array  \n",
    "         for i in range( 4 ):  \n",
    "            print( \"The index and element from the array is\", i, a[i] )  \n",
    "    #if an error occurs in the try block, then except block will be executed by the Python interpreter       \n",
    "    except:  \n",
    "        print (\"Index out of range\")  \n"
   ]
  },
  {
   "cell_type": "code",
   "execution_count": 9,
   "id": "840c5712",
   "metadata": {},
   "outputs": [
    {
     "name": "stdout",
     "output_type": "stream",
     "text": [
      "Can't divide by zero\n",
      "This is always executed\n"
     ]
    }
   ],
   "source": [
    "# Python program to demonstrate finally\n",
    "\n",
    "# No exception Exception raised in try block\n",
    "try:\n",
    "    k = 5//0 # raises divide by zero exception.\n",
    "    print(k)\n",
    "\n",
    "# handles zerodivision exception\n",
    "except ZeroDivisionError:\n",
    "    print(\"Can't divide by zero\")\n",
    "\n",
    "finally:\n",
    "    # this block is always executed\n",
    "    # regardless of exception generation.\n",
    "    print('This is always executed')\n"
   ]
  },
  {
   "cell_type": "code",
   "execution_count": 11,
   "id": "5c982152",
   "metadata": {},
   "outputs": [
    {
     "name": "stdout",
     "output_type": "stream",
     "text": [
      "ZeroDivisionError Occurred and Handled\n"
     ]
    }
   ],
   "source": [
    "# Program to handle multiple errors with one\n",
    "# except statement\n",
    "# Python 3\n",
    "\n",
    "def fun(a):\n",
    "    if a < 4:\n",
    "\n",
    "        # throws ZeroDivisionError for a = 3\n",
    "        b = a/(a-3)\n",
    "\n",
    "    # throws NameError if a >= 4\n",
    "    print(\"Value of b = \", b)\n",
    "    \n",
    "try:\n",
    "    fun(3)\n",
    "    fun(5)\n",
    "\n",
    "# note that braces () are necessary here for\n",
    "# multiple exceptions\n",
    "except ZeroDivisionError:\n",
    "    print(\"ZeroDivisionError Occurred and Handled\")\n",
    "except NameError:\n",
    "    print(\"NameError Occurred and Handled\")\n"
   ]
  },
  {
   "cell_type": "code",
   "execution_count": 12,
   "id": "3d1b6da7",
   "metadata": {},
   "outputs": [
    {
     "name": "stdout",
     "output_type": "stream",
     "text": [
      "The entry is a\n",
      "Oops! <class 'ValueError'> occurred.\n",
      "Next entry.\n",
      "\n",
      "The entry is 0\n",
      "Oops! <class 'ZeroDivisionError'> occurred.\n",
      "Next entry.\n",
      "\n",
      "The entry is 2\n",
      "The reciprocal of 2 is 0.5\n"
     ]
    }
   ],
   "source": [
    "# import module sys to get the type of exception\n",
    "import sys\n",
    "\n",
    "randomList = ['a', 0, 2]\n",
    "\n",
    "for entry in randomList:\n",
    "    try:\n",
    "        print(\"The entry is\", entry)\n",
    "        r = 1/int(entry)\n",
    "        break\n",
    "    except:\n",
    "        print(\"Oops!\", sys.exc_info()[0], \"occurred.\")\n",
    "        print(\"Next entry.\")\n",
    "        print()\n",
    "print(\"The reciprocal of\", entry, \"is\", r)\n"
   ]
  },
  {
   "cell_type": "code",
   "execution_count": null,
   "id": "f6fa91c4",
   "metadata": {},
   "outputs": [],
   "source": []
  }
 ],
 "metadata": {
  "kernelspec": {
   "display_name": "Python 3 (ipykernel)",
   "language": "python",
   "name": "python3"
  },
  "language_info": {
   "codemirror_mode": {
    "name": "ipython",
    "version": 3
   },
   "file_extension": ".py",
   "mimetype": "text/x-python",
   "name": "python",
   "nbconvert_exporter": "python",
   "pygments_lexer": "ipython3",
   "version": "3.10.6"
  }
 },
 "nbformat": 4,
 "nbformat_minor": 5
}
