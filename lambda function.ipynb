{
 "cells": [
  {
   "cell_type": "code",
   "execution_count": 1,
   "id": "550bb0bf",
   "metadata": {},
   "outputs": [
    {
     "name": "stdout",
     "output_type": "stream",
     "text": [
      "50\n",
      "60\n"
     ]
    }
   ],
   "source": [
    "x= lambda a: a+10\n",
    "p=int(input())\n",
    "print(x(p))"
   ]
  },
  {
   "cell_type": "code",
   "execution_count": 3,
   "id": "e7a8bb40",
   "metadata": {},
   "outputs": [
    {
     "name": "stdout",
     "output_type": "stream",
     "text": [
      "5\n",
      "2\n",
      "10\n"
     ]
    }
   ],
   "source": [
    "x= lambda a,b: a*b\n",
    "p=int(input())\n",
    "q=int(input())\n",
    "print(x(p,q))"
   ]
  },
  {
   "cell_type": "code",
   "execution_count": 4,
   "id": "1681406f",
   "metadata": {},
   "outputs": [
    {
     "name": "stdout",
     "output_type": "stream",
     "text": [
      "5\n",
      "3\n",
      "2\n",
      "10\n"
     ]
    }
   ],
   "source": [
    "x= lambda a,b,c: a+b+c\n",
    "p=int(input())\n",
    "q=int(input())\n",
    "r=int(input())\n",
    "print(x(p,q,r))"
   ]
  },
  {
   "cell_type": "code",
   "execution_count": 5,
   "id": "07a43ac8",
   "metadata": {},
   "outputs": [
    {
     "name": "stdout",
     "output_type": "stream",
     "text": [
      "15\n",
      "6\n",
      "15\n"
     ]
    }
   ],
   "source": [
    "max=lambda a,b: a if(a>b) else b\n",
    "x=int(input())\n",
    "y=int(input())\n",
    "print(max(x,y))"
   ]
  },
  {
   "cell_type": "code",
   "execution_count": 7,
   "id": "d2b51d56",
   "metadata": {},
   "outputs": [
    {
     "name": "stdout",
     "output_type": "stream",
     "text": [
      "[25, 23, 19, 58, 65, 45]\n"
     ]
    }
   ],
   "source": [
    "ages=[18,25,8,23,19,58,16,65,12,45]\n",
    "adults=list(filter(lambda age: age>18 ,ages))\n",
    "print(adults)"
   ]
  },
  {
   "cell_type": "code",
   "execution_count": null,
   "id": "3ee98c90",
   "metadata": {},
   "outputs": [],
   "source": []
  }
 ],
 "metadata": {
  "kernelspec": {
   "display_name": "Python 3 (ipykernel)",
   "language": "python",
   "name": "python3"
  },
  "language_info": {
   "codemirror_mode": {
    "name": "ipython",
    "version": 3
   },
   "file_extension": ".py",
   "mimetype": "text/x-python",
   "name": "python",
   "nbconvert_exporter": "python",
   "pygments_lexer": "ipython3",
   "version": "3.10.6"
  }
 },
 "nbformat": 4,
 "nbformat_minor": 5
}
